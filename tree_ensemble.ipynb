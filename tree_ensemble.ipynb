{
 "cells": [
  {
   "cell_type": "code",
   "execution_count": 11,
   "metadata": {},
   "outputs": [],
   "source": [
    "import pandas as pd\n",
    "from imblearn.pipeline import Pipeline\n",
    "from imblearn.over_sampling import RandomOverSampler, SMOTE\n",
    "from sklearn.tree import DecisionTreeClassifier\n",
    "from sklearn.ensemble import RandomForestClassifier\n",
    "from sklearn.impute import SimpleImputer\n",
    "from sklearn.compose import make_column_selector, ColumnTransformer\n",
    "from sklearn.metrics import f1_score, roc_auc_score, make_scorer, recall_score, precision_score\n",
    "from sklearn.preprocessing import MinMaxScaler, OneHotEncoder\n",
    "from sklearn.model_selection import train_test_split, KFold, cross_val_score, GridSearchCV, RandomizedSearchCV\n"
   ]
  },
  {
   "cell_type": "code",
   "execution_count": 2,
   "metadata": {},
   "outputs": [
    {
     "name": "stdout",
     "output_type": "stream",
     "text": [
      "(246847, 13) (105792, 13)\n"
     ]
    }
   ],
   "source": [
    "df = pd.read_csv('data/health_survey.csv')\n",
    "df.loc[:,'null_cnt'] = df.isnull().sum(axis=1)\n",
    "df = df[df['null_cnt']<=1].reset_index(drop=True)\n",
    "df = df.drop('null_cnt', axis=1)\n",
    "X = df.drop(['is_diabetes','state'], axis=1)\n",
    "y = df['is_diabetes']\n",
    "X_train, X_test, y_train, y_test = train_test_split(X, y, test_size=.3)\n",
    "print(X_train.shape, X_test.shape)"
   ]
  },
  {
   "cell_type": "code",
   "execution_count": 3,
   "metadata": {},
   "outputs": [],
   "source": [
    "preprocessor = ColumnTransformer(transformers=[\n",
    "                                ('num', Pipeline([\n",
    "                                    ('num_imputer', SimpleImputer(strategy='median')), \n",
    "                                    ('scaler', MinMaxScaler())]), make_column_selector(dtype_include='number')),\n",
    "                                ('cat', Pipeline([\n",
    "                                    ('cat_imputer', SimpleImputer(strategy='most_frequent')),\n",
    "                                    ('one_hot', OneHotEncoder(handle_unknown='ignore'))]), make_column_selector(dtype_include=object))\n",
    "                                    ], remainder='drop')\n",
    "scorer = make_scorer(roc_auc_score)\n",
    "kf = KFold(n_splits=10, shuffle=True, random_state=2)\n",
    "\n",
    "def ppline(model):\n",
    "    result = Pipeline([\n",
    "                    ('preprocessing', preprocessor), \n",
    "                    ('over_sampler', SMOTE(random_state=2)),\n",
    "                   ('model', model)])\n",
    "    return(result)"
   ]
  },
  {
   "cell_type": "code",
   "execution_count": 4,
   "metadata": {},
   "outputs": [
    {
     "name": "stdout",
     "output_type": "stream",
     "text": [
      "Fitting 10 folds for each of 12 candidates, totalling 120 fits\n",
      "train set roc_auc_score :  0.7058107749180837\n",
      "test set roc_auc_score :  0.704291562781905\n"
     ]
    }
   ],
   "source": [
    "param_grid = {\n",
    "    'model__criterion': ['gini','entropy'],\n",
    "    'model__max_depth': [7, 9, 11],\n",
    "    'model__min_samples_leaf': [20, 40],\n",
    "}\n",
    "\n",
    "dt_gs = GridSearchCV(\n",
    "    estimator=ppline(DecisionTreeClassifier(random_state=2)),\n",
    "    param_grid=param_grid,\n",
    "    cv=kf,\n",
    "    scoring=scorer,  \n",
    "    n_jobs=-1, \n",
    "    verbose=1\n",
    ")\n",
    "\n",
    "dt_gs.fit(X_train, y_train)\n",
    "\n",
    "print(\"train set roc_auc_score : \", roc_auc_score(y_train, dt_gs.predict(X_train)))\n",
    "print(\"test set roc_auc_score : \", roc_auc_score(y_test, dt_gs.predict(X_test)))"
   ]
  },
  {
   "cell_type": "code",
   "execution_count": 5,
   "metadata": {},
   "outputs": [
    {
     "data": {
      "text/plain": [
       "{'ccp_alpha': 0.0,\n",
       " 'class_weight': None,\n",
       " 'criterion': 'entropy',\n",
       " 'max_depth': 7,\n",
       " 'max_features': None,\n",
       " 'max_leaf_nodes': None,\n",
       " 'min_impurity_decrease': 0.0,\n",
       " 'min_samples_leaf': 20,\n",
       " 'min_samples_split': 2,\n",
       " 'min_weight_fraction_leaf': 0.0,\n",
       " 'monotonic_cst': None,\n",
       " 'random_state': 2,\n",
       " 'splitter': 'best'}"
      ]
     },
     "execution_count": 5,
     "metadata": {},
     "output_type": "execute_result"
    }
   ],
   "source": [
    "dt_gs.best_estimator_['model'].get_params()"
   ]
  },
  {
   "cell_type": "code",
   "execution_count": 15,
   "metadata": {},
   "outputs": [
    {
     "name": "stdout",
     "output_type": "stream",
     "text": [
      "Fitting 10 folds for each of 10 candidates, totalling 100 fits\n",
      "train set roc_auc_score :  0.7259009350382046\n",
      "test set roc_auc_score :  0.7220977429217869\n"
     ]
    }
   ],
   "source": [
    "param_grid = {\n",
    "    'model__n_estimators': [100, 300, 500],\n",
    "    'model__criterion': ['gini','entropy'],\n",
    "    'model__max_depth': [3, 5, 7],\n",
    "    'model__min_samples_leaf': [5, 10],\n",
    "}\n",
    "\n",
    "rf_gs = RandomizedSearchCV(\n",
    "    estimator=ppline(RandomForestClassifier(random_state=2)),\n",
    "    param_distributions=param_grid,\n",
    "    cv=kf,\n",
    "    scoring=scorer,  \n",
    "    n_jobs=-1, \n",
    "    verbose=1\n",
    ")\n",
    "\n",
    "rf_gs.fit(X_train, y_train)\n",
    "\n",
    "print(\"train set roc_auc_score : \", roc_auc_score(y_train, rf_gs.predict(X_train)))\n",
    "print(\"test set roc_auc_score : \", roc_auc_score(y_test, rf_gs.predict(X_test)))"
   ]
  },
  {
   "cell_type": "code",
   "execution_count": 17,
   "metadata": {},
   "outputs": [
    {
     "data": {
      "text/plain": [
       "{'bootstrap': True,\n",
       " 'ccp_alpha': 0.0,\n",
       " 'class_weight': None,\n",
       " 'criterion': 'entropy',\n",
       " 'max_depth': 7,\n",
       " 'max_features': 'sqrt',\n",
       " 'max_leaf_nodes': None,\n",
       " 'max_samples': None,\n",
       " 'min_impurity_decrease': 0.0,\n",
       " 'min_samples_leaf': 10,\n",
       " 'min_samples_split': 2,\n",
       " 'min_weight_fraction_leaf': 0.0,\n",
       " 'monotonic_cst': None,\n",
       " 'n_estimators': 100,\n",
       " 'n_jobs': None,\n",
       " 'oob_score': False,\n",
       " 'random_state': 2,\n",
       " 'verbose': 0,\n",
       " 'warm_start': False}"
      ]
     },
     "execution_count": 17,
     "metadata": {},
     "output_type": "execute_result"
    }
   ],
   "source": [
    "rf_gs.best_estimator_['model'].get_params()"
   ]
  },
  {
   "cell_type": "code",
   "execution_count": 22,
   "metadata": {},
   "outputs": [
    {
     "name": "stdout",
     "output_type": "stream",
     "text": [
      "train set roc_auc_score :  0.733307988078033\n",
      "test set roc_auc_score :  0.7234134963940452\n"
     ]
    }
   ],
   "source": [
    "rf = ppline(RandomForestClassifier(random_state=2, max_depth=10, min_samples_leaf=2, n_estimators=500)).fit(X_train, y_train)\n",
    "\n",
    "print(\"train set roc_auc_score : \", roc_auc_score(y_train, rf.predict(X_train)))\n",
    "print(\"test set roc_auc_score : \", roc_auc_score(y_test, rf.predict(X_test)))"
   ]
  },
  {
   "cell_type": "code",
   "execution_count": null,
   "metadata": {},
   "outputs": [],
   "source": []
  }
 ],
 "metadata": {
  "kernelspec": {
   "display_name": "py3",
   "language": "python",
   "name": "python3"
  },
  "language_info": {
   "codemirror_mode": {
    "name": "ipython",
    "version": 3
   },
   "file_extension": ".py",
   "mimetype": "text/x-python",
   "name": "python",
   "nbconvert_exporter": "python",
   "pygments_lexer": "ipython3",
   "version": "3.12.2"
  }
 },
 "nbformat": 4,
 "nbformat_minor": 2
}
